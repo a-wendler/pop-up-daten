{
 "metadata": {
  "language_info": {
   "codemirror_mode": {
    "name": "ipython",
    "version": 3
   },
   "file_extension": ".py",
   "mimetype": "text/x-python",
   "name": "python",
   "nbconvert_exporter": "python",
   "pygments_lexer": "ipython3",
   "version": "3.8.5"
  },
  "orig_nbformat": 2,
  "kernelspec": {
   "name": "python385jvsc74a57bd0500e9f379dfc33ce5a29440abeb9db4daee6d18ed4745caa87d0342feb958303",
   "display_name": "Python 3.8.5 64-bit ('base': conda)"
  }
 },
 "nbformat": 4,
 "nbformat_minor": 2,
 "cells": [
  {
   "cell_type": "code",
   "execution_count": 18,
   "metadata": {},
   "outputs": [
    {
     "output_type": "stream",
     "name": "stderr",
     "text": [
      "/home/dbsm-user/anaconda3/lib/python3.8/site-packages/tqdm/std.py:697: FutureWarning: The Panel class is removed from pandas. Accessing it from the top-level namespace will also be removed in the next version\n  from pandas import Panel\n"
     ]
    }
   ],
   "source": [
    "import pandas as pd\n",
    "import requests\n",
    "from bs4 import BeautifulSoup as soup\n",
    "import unicodedata\n",
    "from lxml import etree\n",
    "from tqdm.auto import tqdm\n",
    "tqdm.pandas()"
   ]
  },
  {
   "cell_type": "code",
   "execution_count": 12,
   "metadata": {},
   "outputs": [],
   "source": [
    "def dnb_sru(query):\n",
    "    \n",
    "    base_url = \"https://services.dnb.de/sru/dnb\"\n",
    "    params = {'recordSchema' : 'MARC21-xml',\n",
    "          'operation': 'searchRetrieve',\n",
    "          'version': '1.1',\n",
    "          'maximumRecords': '100',\n",
    "          'query': query    \n",
    "         }\n",
    "    r = requests.get(base_url, params=params)\n",
    "    xml = soup(r.content, 'lxml')\n",
    "    records = xml.find_all('record', {'type':'Bibliographic'})\n",
    "    \n",
    "    if len(records) < 100:\n",
    "        \n",
    "        return records\n",
    "    \n",
    "    else:\n",
    "        \n",
    "        num_results = 100\n",
    "        i = 101\n",
    "        while num_results == 100:\n",
    "            \n",
    "            params.update({'startRecord': i})\n",
    "            r = requests.get(base_url, params=params)\n",
    "            xml = soup(r.content, 'lxml')\n",
    "            new_records = xml.find_all('record', {'type':'Bibliographic'})\n",
    "            records+=new_records\n",
    "            i+=100\n",
    "            num_results = len(new_records)\n",
    "            \n",
    "        return records"
   ]
  },
  {
   "cell_type": "code",
   "execution_count": 13,
   "metadata": {},
   "outputs": [],
   "source": [
    "def parse_record(record):\n",
    "    \n",
    "    ns = {\"marc\":\"http://www.loc.gov/MARC21/slim\"}\n",
    "    xml = etree.fromstring(unicodedata.normalize(\"NFC\", str(record)))\n",
    "    \n",
    "    #idn\n",
    "    idn = xml.xpath(\"marc:controlfield[@tag = '001']\", namespaces=ns)\n",
    "    try:\n",
    "        idn = idn[0].text\n",
    "    except:\n",
    "        idn = 'fail'\n",
    "    \n",
    "    \"\"\" # umfang\n",
    "    umfang = xml.xpath(\"marc:datafield[@tag = '300']/marc:subfield[@code = 'a']\", namespaces=ns)\n",
    "    \n",
    "    try:\n",
    "        umfang = umfang[0].text\n",
    "        #umfang = unicodedata.normalize(\"NFC\", umfang)\n",
    "    except:\n",
    "        umfang = \"unkown\" \n",
    "        \n",
    "    meta_dict = {\"idn\":idn,\n",
    "                 \"umfang\":umfang}\"\"\"\n",
    "    \n",
    "    return idn"
   ]
  },
  {
   "cell_type": "code",
   "execution_count": 14,
   "metadata": {},
   "outputs": [],
   "source": [
    "def make_list(row):\n",
    "    if len(str(row.ISBN)) > 0:\n",
    "        return list(map(parse_record, dnb_sru(f'NUM={row.ISBN}')))\n",
    "    else:\n",
    "        return list(map(parse_record, dnb_sru(f'WOE all {row.Titel} {row.Verlag} {row.Datum}')))\n"
   ]
  },
  {
   "source": [
    "https://services.dnb.de/sru/dnb?version=1.1&operation=searchRetrieve&recordSchema=MARC21-xml&query=woe=Besuch bei Jitka Junge Welt, Berlin 1978"
   ],
   "cell_type": "markdown",
   "metadata": {}
  },
  {
   "cell_type": "code",
   "execution_count": 19,
   "metadata": {},
   "outputs": [
    {
     "output_type": "stream",
     "name": "stderr",
     "text": [
      "100%|██████████| 4276/4276 [12:11<00:00,  5.84it/s]\n"
     ]
    }
   ],
   "source": [
    "df = pd.read_csv('popups.csv', sep=';')\n",
    "\n",
    "df['dnb-idns'] = df.progress_apply(make_list, axis=1)\n",
    "df.to_csv('2021-04-20-popups.csv', sep=';', index=None)"
   ]
  },
  {
   "cell_type": "code",
   "execution_count": 9,
   "metadata": {},
   "outputs": [
    {
     "output_type": "execute_result",
     "data": {
      "text/plain": [
       "['790073773']"
      ]
     },
     "metadata": {},
     "execution_count": 9
    }
   ],
   "source": [
    "list(map(parse_record, dnb_sru(f'WOE all Besuch bei Jitka Junge Welt, Berlin 1978')))"
   ]
  },
  {
   "cell_type": "code",
   "execution_count": 20,
   "metadata": {},
   "outputs": [
    {
     "output_type": "execute_result",
     "data": {
      "text/plain": [
       "            ISBN    EAN        ASIN  Eigenschaft            Class  AX  \\\n",
       "0            NaN  978.0         NaN      8401089         Original NaN   \n",
       "1            NaN  978.0         NaN      8455201         Original NaN   \n",
       "2            NaN  978.0         NaN       206210  Übersetzung USA NaN   \n",
       "3     3407803702  978.0  3407803702         9153              NaN NaN   \n",
       "4            NaN  978.0         NaN        66689              NaN NaN   \n",
       "...          ...    ...         ...          ...              ...  ..   \n",
       "4271         NaN  978.0         NaN       524292        Nachdruck NaN   \n",
       "4272         NaN  978.0         NaN           12        Faksimile NaN   \n",
       "4273         NaN  978.0         NaN          130         Original NaN   \n",
       "4274         NaN    NaN         NaN         2052        Faksimile NaN   \n",
       "4275  3423124008    NaN         NaN            2            Drama NaN   \n",
       "\n",
       "                   BX                                              Autor  \\\n",
       "0         Arndt, Paul  Arndt, Paul (Einl.); Schanz, Frida u. Pauline;...   \n",
       "1                   -           Stanovsky, V. (Text); Kibasta, V. (Ill.)   \n",
       "2                N.N.                                       Disney, Walt   \n",
       "3                   -     Pacovská, Kveta(Ill.); Schwarz Annelies (Text)   \n",
       "4                N:N.              Eichelberger, Ursula; Zucker, Gertrud   \n",
       "...               ...                                                ...   \n",
       "4271             N.N.                                               N.N.   \n",
       "4272    Flach, Martin                           Flach, Martin; Voulliéme   \n",
       "4273   Gould, Chester                                     Gould, Chester   \n",
       "4274  Apianus, Petrus  Apianus, Petrus,Bienewitz, Peter; Wattehberg, ...   \n",
       "4275    Goethe, Faust                         Johann Wolfgang von Goethe   \n",
       "\n",
       "                                                  Titel  Seiten  ...  \\\n",
       "0                             Das sprechende Bilderbuch    17.0  ...   \n",
       "1     Von der kleinen Mette   - Janies Abenteuer bei...    44.0  ...   \n",
       "2                        Donald Duck in der Geisterstad    10.0  ...   \n",
       "3                          Das Tier mit den Funkelaugen    32.0  ...   \n",
       "4                                      Besuch bei Jitka    10.0  ...   \n",
       "...                                                 ...     ...  ...   \n",
       "4271                    Der große Brand in Hamburg 1842     6.0  ...   \n",
       "4272                                            Losbuch     8.0  ...   \n",
       "4273   The \"Pop-up\" Dick Tracy \"Capture of Boris Arson\"    18.0  ...   \n",
       "4274                             Astronomicum Caesareum   124.0  ...   \n",
       "4275                              Faust. Eine Tragödie.   416.0  ...   \n",
       "\n",
       "     Orginalsprache                   Reihe  \\\n",
       "0               NaN                     NaN   \n",
       "1               NaN  Märchen aus aller Welt   \n",
       "2               NaN    Zwei-Seiten-Panorama   \n",
       "3               NaN                     NaN   \n",
       "4               NaN            Kofferbücher   \n",
       "...             ...                     ...   \n",
       "4271            NaN                     NaN   \n",
       "4272            NaN                     NaN   \n",
       "4273            NaN                     NaN   \n",
       "4274            NaN                     NaN   \n",
       "4275            NaN                     NaN   \n",
       "\n",
       "                                                  Thema  \\\n",
       "0     Hahn, Henne,Esel, Lamm, Vogel, Nest, Kuh, Kind...   \n",
       "1     Dorf, Prinz, Schäferin,Pferde, König, Kutsche,...   \n",
       "2     Donald Duck, Dagobert, Neffen, Büro,Auto, West...   \n",
       "3                 Tier, Fantasie, Kind Rikki, BettTraum   \n",
       "4     Prag, Löwe, Karlsbrücke,Hochzeit, Kinder, Uhr,...   \n",
       "...                                                 ...   \n",
       "4271                          Amerikanische Kinderreime   \n",
       "4272                                                NaN   \n",
       "4273                                              Krimi   \n",
       "4274                                         Astronomie   \n",
       "4275                                                NaN   \n",
       "\n",
       "                        Buchart Ersterscheinung        Standort Auflage  \\\n",
       "0                           NaN               3             NaN      4.   \n",
       "1                           NaN               3             NaN     NaN   \n",
       "2                           NaN               2           6 - 2     NaN   \n",
       "3                           NaN               2           3 - 4     NaN   \n",
       "4                           NaN               2           6 - 1      1.   \n",
       "...                         ...             ...             ...     ...   \n",
       "4271                  Teleorama               2           K - 8     NaN   \n",
       "4272  Scherzhaftes Wahrsagebuch               1           K - 1     NaN   \n",
       "4273                        NaN               2           1 - 7     NaN   \n",
       "4274                   Fachbuch               2           K - 0     NaN   \n",
       "4275                        NaN             NaN  Regal 115, 13b     NaN   \n",
       "\n",
       "                                                 Inhalt Buchnummer  \\\n",
       "0     In dem Buch werden 8 Bauernhoftiere mit je ein...     4244.0   \n",
       "1                                                   NaN     4243.0   \n",
       "2     Donald Duck, seine 3 Neffen und Dagobert fahre...     4242.0   \n",
       "3     Rikki wünscht sich ein Tier, dass fliegen, Sch...     4241.0   \n",
       "4     Jitka kommt aus Prag und erzählt, was in ihrer...     4240.0   \n",
       "...                                                 ...        ...   \n",
       "4271  Das \"Buch\" besteht aus sechs durch weiße Seite...        3.0   \n",
       "4272  Scherzhaftes Wahrsagebuch mit einem D rachenko...        2.0   \n",
       "4273  Eine wilde Vverfolgungsjagd nach dem entflohen...       74.0   \n",
       "4274   Die Faksimile-Ausgabe wurde 1967 in Leipzig  ...        1.0   \n",
       "4275  Zwei Seelen wohnen, ach, in meiner Brust\\n\\nFa...        NaN   \n",
       "\n",
       "         dnb-idns  \n",
       "0              []  \n",
       "1              []  \n",
       "2              []  \n",
       "3     [900649100]  \n",
       "4              []  \n",
       "...           ...  \n",
       "4271           []  \n",
       "4272           []  \n",
       "4273           []  \n",
       "4274           []  \n",
       "4275           []  \n",
       "\n",
       "[4276 rows x 27 columns]"
      ],
      "text/html": "<div>\n<style scoped>\n    .dataframe tbody tr th:only-of-type {\n        vertical-align: middle;\n    }\n\n    .dataframe tbody tr th {\n        vertical-align: top;\n    }\n\n    .dataframe thead th {\n        text-align: right;\n    }\n</style>\n<table border=\"1\" class=\"dataframe\">\n  <thead>\n    <tr style=\"text-align: right;\">\n      <th></th>\n      <th>ISBN</th>\n      <th>EAN</th>\n      <th>ASIN</th>\n      <th>Eigenschaft</th>\n      <th>Class</th>\n      <th>AX</th>\n      <th>BX</th>\n      <th>Autor</th>\n      <th>Titel</th>\n      <th>Seiten</th>\n      <th>...</th>\n      <th>Orginalsprache</th>\n      <th>Reihe</th>\n      <th>Thema</th>\n      <th>Buchart</th>\n      <th>Ersterscheinung</th>\n      <th>Standort</th>\n      <th>Auflage</th>\n      <th>Inhalt</th>\n      <th>Buchnummer</th>\n      <th>dnb-idns</th>\n    </tr>\n  </thead>\n  <tbody>\n    <tr>\n      <th>0</th>\n      <td>NaN</td>\n      <td>978.0</td>\n      <td>NaN</td>\n      <td>8401089</td>\n      <td>Original</td>\n      <td>NaN</td>\n      <td>Arndt, Paul</td>\n      <td>Arndt, Paul (Einl.); Schanz, Frida u. Pauline;...</td>\n      <td>Das sprechende Bilderbuch</td>\n      <td>17.0</td>\n      <td>...</td>\n      <td>NaN</td>\n      <td>NaN</td>\n      <td>Hahn, Henne,Esel, Lamm, Vogel, Nest, Kuh, Kind...</td>\n      <td>NaN</td>\n      <td>3</td>\n      <td>NaN</td>\n      <td>4.</td>\n      <td>In dem Buch werden 8 Bauernhoftiere mit je ein...</td>\n      <td>4244.0</td>\n      <td>[]</td>\n    </tr>\n    <tr>\n      <th>1</th>\n      <td>NaN</td>\n      <td>978.0</td>\n      <td>NaN</td>\n      <td>8455201</td>\n      <td>Original</td>\n      <td>NaN</td>\n      <td>-</td>\n      <td>Stanovsky, V. (Text); Kibasta, V. (Ill.)</td>\n      <td>Von der kleinen Mette   - Janies Abenteuer bei...</td>\n      <td>44.0</td>\n      <td>...</td>\n      <td>NaN</td>\n      <td>Märchen aus aller Welt</td>\n      <td>Dorf, Prinz, Schäferin,Pferde, König, Kutsche,...</td>\n      <td>NaN</td>\n      <td>3</td>\n      <td>NaN</td>\n      <td>NaN</td>\n      <td>NaN</td>\n      <td>4243.0</td>\n      <td>[]</td>\n    </tr>\n    <tr>\n      <th>2</th>\n      <td>NaN</td>\n      <td>978.0</td>\n      <td>NaN</td>\n      <td>206210</td>\n      <td>Übersetzung USA</td>\n      <td>NaN</td>\n      <td>N.N.</td>\n      <td>Disney, Walt</td>\n      <td>Donald Duck in der Geisterstad</td>\n      <td>10.0</td>\n      <td>...</td>\n      <td>NaN</td>\n      <td>Zwei-Seiten-Panorama</td>\n      <td>Donald Duck, Dagobert, Neffen, Büro,Auto, West...</td>\n      <td>NaN</td>\n      <td>2</td>\n      <td>6 - 2</td>\n      <td>NaN</td>\n      <td>Donald Duck, seine 3 Neffen und Dagobert fahre...</td>\n      <td>4242.0</td>\n      <td>[]</td>\n    </tr>\n    <tr>\n      <th>3</th>\n      <td>3407803702</td>\n      <td>978.0</td>\n      <td>3407803702</td>\n      <td>9153</td>\n      <td>NaN</td>\n      <td>NaN</td>\n      <td>-</td>\n      <td>Pacovská, Kveta(Ill.); Schwarz Annelies (Text)</td>\n      <td>Das Tier mit den Funkelaugen</td>\n      <td>32.0</td>\n      <td>...</td>\n      <td>NaN</td>\n      <td>NaN</td>\n      <td>Tier, Fantasie, Kind Rikki, BettTraum</td>\n      <td>NaN</td>\n      <td>2</td>\n      <td>3 - 4</td>\n      <td>NaN</td>\n      <td>Rikki wünscht sich ein Tier, dass fliegen, Sch...</td>\n      <td>4241.0</td>\n      <td>[900649100]</td>\n    </tr>\n    <tr>\n      <th>4</th>\n      <td>NaN</td>\n      <td>978.0</td>\n      <td>NaN</td>\n      <td>66689</td>\n      <td>NaN</td>\n      <td>NaN</td>\n      <td>N:N.</td>\n      <td>Eichelberger, Ursula; Zucker, Gertrud</td>\n      <td>Besuch bei Jitka</td>\n      <td>10.0</td>\n      <td>...</td>\n      <td>NaN</td>\n      <td>Kofferbücher</td>\n      <td>Prag, Löwe, Karlsbrücke,Hochzeit, Kinder, Uhr,...</td>\n      <td>NaN</td>\n      <td>2</td>\n      <td>6 - 1</td>\n      <td>1.</td>\n      <td>Jitka kommt aus Prag und erzählt, was in ihrer...</td>\n      <td>4240.0</td>\n      <td>[]</td>\n    </tr>\n    <tr>\n      <th>...</th>\n      <td>...</td>\n      <td>...</td>\n      <td>...</td>\n      <td>...</td>\n      <td>...</td>\n      <td>...</td>\n      <td>...</td>\n      <td>...</td>\n      <td>...</td>\n      <td>...</td>\n      <td>...</td>\n      <td>...</td>\n      <td>...</td>\n      <td>...</td>\n      <td>...</td>\n      <td>...</td>\n      <td>...</td>\n      <td>...</td>\n      <td>...</td>\n      <td>...</td>\n      <td>...</td>\n    </tr>\n    <tr>\n      <th>4271</th>\n      <td>NaN</td>\n      <td>978.0</td>\n      <td>NaN</td>\n      <td>524292</td>\n      <td>Nachdruck</td>\n      <td>NaN</td>\n      <td>N.N.</td>\n      <td>N.N.</td>\n      <td>Der große Brand in Hamburg 1842</td>\n      <td>6.0</td>\n      <td>...</td>\n      <td>NaN</td>\n      <td>NaN</td>\n      <td>Amerikanische Kinderreime</td>\n      <td>Teleorama</td>\n      <td>2</td>\n      <td>K - 8</td>\n      <td>NaN</td>\n      <td>Das \"Buch\" besteht aus sechs durch weiße Seite...</td>\n      <td>3.0</td>\n      <td>[]</td>\n    </tr>\n    <tr>\n      <th>4272</th>\n      <td>NaN</td>\n      <td>978.0</td>\n      <td>NaN</td>\n      <td>12</td>\n      <td>Faksimile</td>\n      <td>NaN</td>\n      <td>Flach, Martin</td>\n      <td>Flach, Martin; Voulliéme</td>\n      <td>Losbuch</td>\n      <td>8.0</td>\n      <td>...</td>\n      <td>NaN</td>\n      <td>NaN</td>\n      <td>NaN</td>\n      <td>Scherzhaftes Wahrsagebuch</td>\n      <td>1</td>\n      <td>K - 1</td>\n      <td>NaN</td>\n      <td>Scherzhaftes Wahrsagebuch mit einem D rachenko...</td>\n      <td>2.0</td>\n      <td>[]</td>\n    </tr>\n    <tr>\n      <th>4273</th>\n      <td>NaN</td>\n      <td>978.0</td>\n      <td>NaN</td>\n      <td>130</td>\n      <td>Original</td>\n      <td>NaN</td>\n      <td>Gould, Chester</td>\n      <td>Gould, Chester</td>\n      <td>The \"Pop-up\" Dick Tracy \"Capture of Boris Arson\"</td>\n      <td>18.0</td>\n      <td>...</td>\n      <td>NaN</td>\n      <td>NaN</td>\n      <td>Krimi</td>\n      <td>NaN</td>\n      <td>2</td>\n      <td>1 - 7</td>\n      <td>NaN</td>\n      <td>Eine wilde Vverfolgungsjagd nach dem entflohen...</td>\n      <td>74.0</td>\n      <td>[]</td>\n    </tr>\n    <tr>\n      <th>4274</th>\n      <td>NaN</td>\n      <td>NaN</td>\n      <td>NaN</td>\n      <td>2052</td>\n      <td>Faksimile</td>\n      <td>NaN</td>\n      <td>Apianus, Petrus</td>\n      <td>Apianus, Petrus,Bienewitz, Peter; Wattehberg, ...</td>\n      <td>Astronomicum Caesareum</td>\n      <td>124.0</td>\n      <td>...</td>\n      <td>NaN</td>\n      <td>NaN</td>\n      <td>Astronomie</td>\n      <td>Fachbuch</td>\n      <td>2</td>\n      <td>K - 0</td>\n      <td>NaN</td>\n      <td>Die Faksimile-Ausgabe wurde 1967 in Leipzig  ...</td>\n      <td>1.0</td>\n      <td>[]</td>\n    </tr>\n    <tr>\n      <th>4275</th>\n      <td>3423124008</td>\n      <td>NaN</td>\n      <td>NaN</td>\n      <td>2</td>\n      <td>Drama</td>\n      <td>NaN</td>\n      <td>Goethe, Faust</td>\n      <td>Johann Wolfgang von Goethe</td>\n      <td>Faust. Eine Tragödie.</td>\n      <td>416.0</td>\n      <td>...</td>\n      <td>NaN</td>\n      <td>NaN</td>\n      <td>NaN</td>\n      <td>NaN</td>\n      <td>NaN</td>\n      <td>Regal 115, 13b</td>\n      <td>NaN</td>\n      <td>Zwei Seelen wohnen, ach, in meiner Brust\\n\\nFa...</td>\n      <td>NaN</td>\n      <td>[]</td>\n    </tr>\n  </tbody>\n</table>\n<p>4276 rows × 27 columns</p>\n</div>"
     },
     "metadata": {},
     "execution_count": 20
    }
   ],
   "source": [
    "df"
   ]
  },
  {
   "cell_type": "code",
   "execution_count": null,
   "metadata": {},
   "outputs": [],
   "source": []
  }
 ]
}